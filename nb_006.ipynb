{
  "nbformat": 4,
  "nbformat_minor": 0,
  "metadata": {
    "colab": {
      "provenance": [],
      "gpuType": "T4",
      "authorship_tag": "ABX9TyNo4DB46zv4sulz9xrZ0MqD",
      "include_colab_link": true
    },
    "kernelspec": {
      "name": "python3",
      "display_name": "Python 3"
    },
    "language_info": {
      "name": "python"
    },
    "accelerator": "GPU"
  },
  "cells": [
    {
      "cell_type": "markdown",
      "metadata": {
        "id": "view-in-github",
        "colab_type": "text"
      },
      "source": [
        "<a href=\"https://colab.research.google.com/github/prisar/ai/blob/main/nb_006.ipynb\" target=\"_parent\"><img src=\"https://colab.research.google.com/assets/colab-badge.svg\" alt=\"Open In Colab\"/></a>"
      ]
    },
    {
      "cell_type": "markdown",
      "source": [
        "### Onnx "
      ],
      "metadata": {
        "id": "fsvoAH-HLfpk"
      }
    },
    {
      "cell_type": "code",
      "source": [
        "!pip install onnx"
      ],
      "metadata": {
        "colab": {
          "base_uri": "https://localhost:8080/"
        },
        "id": "mUbOwe_CJ5sK",
        "outputId": "e28a184c-e554-42c4-ee49-9889f0f61969"
      },
      "execution_count": 2,
      "outputs": [
        {
          "output_type": "stream",
          "name": "stdout",
          "text": [
            "Looking in indexes: https://pypi.org/simple, https://us-python.pkg.dev/colab-wheels/public/simple/\n",
            "Collecting onnx\n",
            "  Downloading onnx-1.14.0-cp310-cp310-manylinux_2_17_x86_64.manylinux2014_x86_64.whl (14.6 MB)\n",
            "\u001b[2K     \u001b[90m━━━━━━━━━━━━━━━━━━━━━━━━━━━━━━━━━━━━━━━\u001b[0m \u001b[32m14.6/14.6 MB\u001b[0m \u001b[31m102.4 MB/s\u001b[0m eta \u001b[36m0:00:00\u001b[0m\n",
            "\u001b[?25hRequirement already satisfied: numpy in /usr/local/lib/python3.10/dist-packages (from onnx) (1.22.4)\n",
            "Requirement already satisfied: protobuf>=3.20.2 in /usr/local/lib/python3.10/dist-packages (from onnx) (3.20.3)\n",
            "Requirement already satisfied: typing-extensions>=3.6.2.1 in /usr/local/lib/python3.10/dist-packages (from onnx) (4.5.0)\n",
            "Installing collected packages: onnx\n",
            "Successfully installed onnx-1.14.0\n"
          ]
        }
      ]
    },
    {
      "cell_type": "code",
      "source": [
        "import torch\n",
        "import torchvision\n",
        "\n",
        "dummy_input = torch.randn(10, 3, 224, 224, device=\"cuda\")\n",
        "model = torchvision.models.alexnet(pretrained=True).cuda()\n",
        "\n",
        "# Providing input and output names sets the display names for values\n",
        "# within the model's graph. Setting these does not change the semantics\n",
        "# of the graph; it is only for readability.\n",
        "#\n",
        "# The inputs to the network consist of the flat list of inputs (i.e.\n",
        "# the values you would pass to the forward() method) followed by the\n",
        "# flat list of parameters. You can partially specify names, i.e. provide\n",
        "# a list here shorter than the number of inputs to the model, and we will\n",
        "# only set that subset of names, starting from the beginning.\n",
        "input_names = [ \"actual_input_1\" ] + [ \"learned_%d\" % i for i in range(16) ]\n",
        "output_names = [ \"output1\" ]\n",
        "\n",
        "torch.onnx.export(model, dummy_input, \"alexnet.onnx\", verbose=True, input_names=input_names, output_names=output_names)"
      ],
      "metadata": {
        "colab": {
          "base_uri": "https://localhost:8080/"
        },
        "id": "fSIwNSbKHwIS",
        "outputId": "d8c01356-41ac-46c2-bf15-d56c0cbe282a"
      },
      "execution_count": 3,
      "outputs": [
        {
          "output_type": "stream",
          "name": "stdout",
          "text": [
            "============= Diagnostic Run torch.onnx.export version 2.0.1+cu118 =============\n",
            "verbose: False, log level: Level.ERROR\n",
            "======================= 0 NONE 0 NOTE 0 WARNING 0 ERROR ========================\n",
            "\n"
          ]
        }
      ]
    },
    {
      "cell_type": "code",
      "source": [
        "!ls -l"
      ],
      "metadata": {
        "colab": {
          "base_uri": "https://localhost:8080/"
        },
        "id": "CgUs3DpqKMTN",
        "outputId": "4ace336e-0f5e-4e02-ecee-beae8bbb9da7"
      },
      "execution_count": 6,
      "outputs": [
        {
          "output_type": "stream",
          "name": "stdout",
          "text": [
            "total 238756\n",
            "-rw-r--r-- 1 root root 244479812 Jun  8 13:17 alexnet.onnx\n",
            "drwxr-xr-x 1 root root      4096 Jun  6 13:37 sample_data\n"
          ]
        }
      ]
    },
    {
      "cell_type": "code",
      "source": [
        "import onnx\n",
        "\n",
        "# Load the ONNX model\n",
        "model = onnx.load(\"alexnet.onnx\")\n",
        "\n",
        "# Check that the model is well formed\n",
        "onnx.checker.check_model(model)\n",
        "\n",
        "# Print a human readable representation of the graph\n",
        "print(onnx.helper.printable_graph(model.graph))"
      ],
      "metadata": {
        "colab": {
          "base_uri": "https://localhost:8080/"
        },
        "id": "TQvumjv4LO5q",
        "outputId": "5160bb03-c626-435e-d733-622d536d03b9"
      },
      "execution_count": 7,
      "outputs": [
        {
          "output_type": "stream",
          "name": "stdout",
          "text": [
            "graph torch_jit (\n",
            "  %actual_input_1[FLOAT, 10x3x224x224]\n",
            ") initializers (\n",
            "  %learned_0[FLOAT, 64x3x11x11]\n",
            "  %learned_1[FLOAT, 64]\n",
            "  %learned_2[FLOAT, 192x64x5x5]\n",
            "  %learned_3[FLOAT, 192]\n",
            "  %learned_4[FLOAT, 384x192x3x3]\n",
            "  %learned_5[FLOAT, 384]\n",
            "  %learned_6[FLOAT, 256x384x3x3]\n",
            "  %learned_7[FLOAT, 256]\n",
            "  %learned_8[FLOAT, 256x256x3x3]\n",
            "  %learned_9[FLOAT, 256]\n",
            "  %learned_10[FLOAT, 4096x9216]\n",
            "  %learned_11[FLOAT, 4096]\n",
            "  %learned_12[FLOAT, 4096x4096]\n",
            "  %learned_13[FLOAT, 4096]\n",
            "  %learned_14[FLOAT, 1000x4096]\n",
            "  %learned_15[FLOAT, 1000]\n",
            ") {\n",
            "  %/features/features.0/Conv_output_0 = Conv[dilations = [1, 1], group = 1, kernel_shape = [11, 11], pads = [2, 2, 2, 2], strides = [4, 4]](%actual_input_1, %learned_0, %learned_1)\n",
            "  %/features/features.1/Relu_output_0 = Relu(%/features/features.0/Conv_output_0)\n",
            "  %/features/features.2/MaxPool_output_0 = MaxPool[ceil_mode = 0, kernel_shape = [3, 3], pads = [0, 0, 0, 0], strides = [2, 2]](%/features/features.1/Relu_output_0)\n",
            "  %/features/features.3/Conv_output_0 = Conv[dilations = [1, 1], group = 1, kernel_shape = [5, 5], pads = [2, 2, 2, 2], strides = [1, 1]](%/features/features.2/MaxPool_output_0, %learned_2, %learned_3)\n",
            "  %/features/features.4/Relu_output_0 = Relu(%/features/features.3/Conv_output_0)\n",
            "  %/features/features.5/MaxPool_output_0 = MaxPool[ceil_mode = 0, kernel_shape = [3, 3], pads = [0, 0, 0, 0], strides = [2, 2]](%/features/features.4/Relu_output_0)\n",
            "  %/features/features.6/Conv_output_0 = Conv[dilations = [1, 1], group = 1, kernel_shape = [3, 3], pads = [1, 1, 1, 1], strides = [1, 1]](%/features/features.5/MaxPool_output_0, %learned_4, %learned_5)\n",
            "  %/features/features.7/Relu_output_0 = Relu(%/features/features.6/Conv_output_0)\n",
            "  %/features/features.8/Conv_output_0 = Conv[dilations = [1, 1], group = 1, kernel_shape = [3, 3], pads = [1, 1, 1, 1], strides = [1, 1]](%/features/features.7/Relu_output_0, %learned_6, %learned_7)\n",
            "  %/features/features.9/Relu_output_0 = Relu(%/features/features.8/Conv_output_0)\n",
            "  %/features/features.10/Conv_output_0 = Conv[dilations = [1, 1], group = 1, kernel_shape = [3, 3], pads = [1, 1, 1, 1], strides = [1, 1]](%/features/features.9/Relu_output_0, %learned_8, %learned_9)\n",
            "  %/features/features.11/Relu_output_0 = Relu(%/features/features.10/Conv_output_0)\n",
            "  %/features/features.12/MaxPool_output_0 = MaxPool[ceil_mode = 0, kernel_shape = [3, 3], pads = [0, 0, 0, 0], strides = [2, 2]](%/features/features.11/Relu_output_0)\n",
            "  %/avgpool/AveragePool_output_0 = AveragePool[kernel_shape = [1, 1], strides = [1, 1]](%/features/features.12/MaxPool_output_0)\n",
            "  %/Flatten_output_0 = Flatten[axis = 1](%/avgpool/AveragePool_output_0)\n",
            "  %/classifier/classifier.1/Gemm_output_0 = Gemm[alpha = 1, beta = 1, transB = 1](%/Flatten_output_0, %learned_10, %learned_11)\n",
            "  %/classifier/classifier.2/Relu_output_0 = Relu(%/classifier/classifier.1/Gemm_output_0)\n",
            "  %/classifier/classifier.4/Gemm_output_0 = Gemm[alpha = 1, beta = 1, transB = 1](%/classifier/classifier.2/Relu_output_0, %learned_12, %learned_13)\n",
            "  %/classifier/classifier.5/Relu_output_0 = Relu(%/classifier/classifier.4/Gemm_output_0)\n",
            "  %output1 = Gemm[alpha = 1, beta = 1, transB = 1](%/classifier/classifier.5/Relu_output_0, %learned_14, %learned_15)\n",
            "  return %output1\n",
            "}\n"
          ]
        }
      ]
    }
  ]
}
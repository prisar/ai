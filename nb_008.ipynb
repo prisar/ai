{
  "nbformat": 4,
  "nbformat_minor": 0,
  "metadata": {
    "colab": {
      "provenance": [],
      "authorship_tag": "ABX9TyMsxiheZAsNHgM/lypftxgC"
    },
    "kernelspec": {
      "name": "python3",
      "display_name": "Python 3"
    },
    "language_info": {
      "name": "python"
    }
  },
  "cells": [
    {
      "cell_type": "code",
      "source": [
        "!pip install torchvision"
      ],
      "metadata": {
        "colab": {
          "base_uri": "https://localhost:8080/"
        },
        "id": "slPRtgm6QHrO",
        "outputId": "3be5d9ce-b8d8-4381-8808-34f2dbdf360c"
      },
      "execution_count": 2,
      "outputs": [
        {
          "output_type": "stream",
          "name": "stdout",
          "text": [
            "Looking in indexes: https://pypi.org/simple, https://us-python.pkg.dev/colab-wheels/public/simple/\n",
            "Requirement already satisfied: torchvision in /usr/local/lib/python3.10/dist-packages (0.15.2+cu118)\n",
            "Requirement already satisfied: numpy in /usr/local/lib/python3.10/dist-packages (from torchvision) (1.22.4)\n",
            "Requirement already satisfied: requests in /usr/local/lib/python3.10/dist-packages (from torchvision) (2.27.1)\n",
            "Requirement already satisfied: torch==2.0.1 in /usr/local/lib/python3.10/dist-packages (from torchvision) (2.0.1+cu118)\n",
            "Requirement already satisfied: pillow!=8.3.*,>=5.3.0 in /usr/local/lib/python3.10/dist-packages (from torchvision) (8.4.0)\n",
            "Requirement already satisfied: filelock in /usr/local/lib/python3.10/dist-packages (from torch==2.0.1->torchvision) (3.12.0)\n",
            "Requirement already satisfied: typing-extensions in /usr/local/lib/python3.10/dist-packages (from torch==2.0.1->torchvision) (4.5.0)\n",
            "Requirement already satisfied: sympy in /usr/local/lib/python3.10/dist-packages (from torch==2.0.1->torchvision) (1.11.1)\n",
            "Requirement already satisfied: networkx in /usr/local/lib/python3.10/dist-packages (from torch==2.0.1->torchvision) (3.1)\n",
            "Requirement already satisfied: jinja2 in /usr/local/lib/python3.10/dist-packages (from torch==2.0.1->torchvision) (3.1.2)\n",
            "Requirement already satisfied: triton==2.0.0 in /usr/local/lib/python3.10/dist-packages (from torch==2.0.1->torchvision) (2.0.0)\n",
            "Requirement already satisfied: cmake in /usr/local/lib/python3.10/dist-packages (from triton==2.0.0->torch==2.0.1->torchvision) (3.25.2)\n",
            "Requirement already satisfied: lit in /usr/local/lib/python3.10/dist-packages (from triton==2.0.0->torch==2.0.1->torchvision) (16.0.5)\n",
            "Requirement already satisfied: urllib3<1.27,>=1.21.1 in /usr/local/lib/python3.10/dist-packages (from requests->torchvision) (1.26.15)\n",
            "Requirement already satisfied: certifi>=2017.4.17 in /usr/local/lib/python3.10/dist-packages (from requests->torchvision) (2022.12.7)\n",
            "Requirement already satisfied: charset-normalizer~=2.0.0 in /usr/local/lib/python3.10/dist-packages (from requests->torchvision) (2.0.12)\n",
            "Requirement already satisfied: idna<4,>=2.5 in /usr/local/lib/python3.10/dist-packages (from requests->torchvision) (3.4)\n",
            "Requirement already satisfied: MarkupSafe>=2.0 in /usr/local/lib/python3.10/dist-packages (from jinja2->torch==2.0.1->torchvision) (2.1.2)\n",
            "Requirement already satisfied: mpmath>=0.19 in /usr/local/lib/python3.10/dist-packages (from sympy->torch==2.0.1->torchvision) (1.3.0)\n"
          ]
        }
      ]
    },
    {
      "cell_type": "code",
      "execution_count": 13,
      "metadata": {
        "id": "7QE7UMOqP64u"
      },
      "outputs": [],
      "source": [
        "from torchvision import models\n",
        "from torch import Tensor, nn\n",
        "\n",
        "transfer_model = models.resnet50(pretrained=True)\n"
      ]
    },
    {
      "cell_type": "code",
      "source": [
        "for name, param in transfer_model.named_parameters():\n",
        "  param.requires_grad = False"
      ],
      "metadata": {
        "id": "YUxEOmafRbig"
      },
      "execution_count": 14,
      "outputs": []
    },
    {
      "cell_type": "code",
      "source": [
        "transfer_model.fc = nn.Sequential(nn.Linear(transfer_model.fc.in_features,500),\n",
        "    nn.ReLU(),\n",
        "    nn.Dropout(), nn.Linear(500,2))"
      ],
      "metadata": {
        "id": "lV-UwU1PSJDB"
      },
      "execution_count": 15,
      "outputs": []
    },
    {
      "cell_type": "code",
      "source": [
        "import math\n",
        "def find_lr(model, loss_fn, optimizer, init_value=1e-8, final_value=10.0):\n",
        "  number_in_epoch = len(train_loader) - 1\n",
        "  update_step = (final_value / init_value) ** (1 / number_in_epoch)\n",
        "  lr = init_value\n",
        "  optimizer.param_groups[0][\"lr\"] = lr\n",
        "  best_loss = 0.0\n",
        "  batch_num = 0\n",
        "  losses = []\n",
        "  log_lrs = []\n",
        "  for data in train_loader:\n",
        "    batch_num += 1\n",
        "    inputs, labels = data\n",
        "    inputs, labels = inputs, labels\n",
        "    optimizer.zero_grad()\n",
        "    outputs = model(inputs)\n",
        "    loss = loss_fn(outputs, labels)\n",
        "    # Crash out if loss explodes\n",
        "    if batch_num > 1 and loss > 4 * best_loss: return log_lrs[10:-5], losses[10:-5]\n",
        "    # Record the best loss\n",
        "    if loss < best_loss or batch_num == 1: best_loss = loss\n",
        "    # Store the values\n",
        "    losses.append(loss)\n",
        "    log_lrs.append(math.log10(lr))\n",
        "    # Do the backward pass and optimize\n",
        "    loss.backward()\n",
        "    optimizer.step()\n",
        "    # Update the lr for the next step and store\n",
        "    lr *= update_step\n",
        "    optimizer.param_groups[0][\"lr\"] = lr\n",
        "  return log_lrs[10:-5], losses[10:-5]\n"
      ],
      "metadata": {
        "id": "_sjTUJG3Sqdy"
      },
      "execution_count": 17,
      "outputs": []
    }
  ]
}
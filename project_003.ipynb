{
  "nbformat": 4,
  "nbformat_minor": 0,
  "metadata": {
    "colab": {
      "provenance": [],
      "gpuType": "T4",
      "authorship_tag": "ABX9TyMjqWbBWeD+nOd+zbzYKdVd"
    },
    "kernelspec": {
      "name": "python3",
      "display_name": "Python 3"
    },
    "language_info": {
      "name": "python"
    },
    "accelerator": "GPU"
  },
  "cells": [
    {
      "cell_type": "markdown",
      "source": [
        "###tinygrad"
      ],
      "metadata": {
        "id": "i7hPSZeDYDci"
      }
    },
    {
      "cell_type": "code",
      "execution_count": 1,
      "metadata": {
        "id": "jhqp2D4CXIbN",
        "colab": {
          "base_uri": "https://localhost:8080/"
        },
        "outputId": "b1b0d718-9e1a-4c97-bdad-a4a17899629f"
      },
      "outputs": [
        {
          "output_type": "stream",
          "name": "stdout",
          "text": [
            "Cloning into 'tinygrad'...\n",
            "remote: Enumerating objects: 13827, done.\u001b[K\n",
            "remote: Counting objects: 100% (2596/2596), done.\u001b[K\n",
            "remote: Compressing objects: 100% (349/349), done.\u001b[K\n",
            "remote: Total 13827 (delta 2368), reused 2285 (delta 2247), pack-reused 11231\u001b[K\n",
            "Receiving objects: 100% (13827/13827), 18.15 MiB | 34.80 MiB/s, done.\n",
            "Resolving deltas: 100% (9780/9780), done.\n"
          ]
        }
      ],
      "source": [
        "!git clone https://github.com/geohot/tinygrad.git"
      ]
    },
    {
      "cell_type": "code",
      "source": [
        "cd tinygrad"
      ],
      "metadata": {
        "id": "53qZpT3OH5DH",
        "outputId": "0cbce6f0-0312-418e-ad45-0ee3fe8e95ab",
        "colab": {
          "base_uri": "https://localhost:8080/"
        }
      },
      "execution_count": 2,
      "outputs": [
        {
          "output_type": "stream",
          "name": "stdout",
          "text": [
            "/content/tinygrad\n"
          ]
        }
      ]
    },
    {
      "cell_type": "code",
      "source": [
        "!pip install -e ."
      ],
      "metadata": {
        "id": "XkLZbg5JYht4",
        "outputId": "98182f91-f349-4eb4-fbca-7d762dd03f35",
        "colab": {
          "base_uri": "https://localhost:8080/"
        }
      },
      "execution_count": 9,
      "outputs": [
        {
          "output_type": "stream",
          "name": "stdout",
          "text": [
            "Looking in indexes: https://pypi.org/simple, https://us-python.pkg.dev/colab-wheels/public/simple/\n",
            "Obtaining file:///content/tinygrad\n",
            "  Preparing metadata (setup.py) ... \u001b[?25l\u001b[?25hdone\n",
            "Requirement already satisfied: numpy in /usr/local/lib/python3.10/dist-packages (from tinygrad==0.6.0) (1.22.4)\n",
            "Requirement already satisfied: requests in /usr/local/lib/python3.10/dist-packages (from tinygrad==0.6.0) (2.27.1)\n",
            "Requirement already satisfied: pillow in /usr/local/lib/python3.10/dist-packages (from tinygrad==0.6.0) (8.4.0)\n",
            "Requirement already satisfied: tqdm in /usr/local/lib/python3.10/dist-packages (from tinygrad==0.6.0) (4.65.0)\n",
            "Requirement already satisfied: networkx in /usr/local/lib/python3.10/dist-packages (from tinygrad==0.6.0) (3.1)\n",
            "Collecting pyopencl (from tinygrad==0.6.0)\n",
            "  Downloading pyopencl-2023.1-cp310-cp310-manylinux_2_17_x86_64.manylinux2014_x86_64.whl (919 kB)\n",
            "\u001b[2K     \u001b[90m━━━━━━━━━━━━━━━━━━━━━━━━━━━━━━━━━━━━━━\u001b[0m \u001b[32m919.1/919.1 kB\u001b[0m \u001b[31m16.3 MB/s\u001b[0m eta \u001b[36m0:00:00\u001b[0m\n",
            "\u001b[?25hRequirement already satisfied: PyYAML in /usr/local/lib/python3.10/dist-packages (from tinygrad==0.6.0) (6.0)\n",
            "Collecting pytools>=2021.2.7 (from pyopencl->tinygrad==0.6.0)\n",
            "  Downloading pytools-2022.1.14.tar.gz (74 kB)\n",
            "\u001b[2K     \u001b[90m━━━━━━━━━━━━━━━━━━━━━━━━━━━━━━━━━━━━━━━━\u001b[0m \u001b[32m74.6/74.6 kB\u001b[0m \u001b[31m10.7 MB/s\u001b[0m eta \u001b[36m0:00:00\u001b[0m\n",
            "\u001b[?25h  Preparing metadata (setup.py) ... \u001b[?25l\u001b[?25hdone\n",
            "Requirement already satisfied: platformdirs>=2.2.0 in /usr/local/lib/python3.10/dist-packages (from pyopencl->tinygrad==0.6.0) (3.3.0)\n",
            "Requirement already satisfied: urllib3<1.27,>=1.21.1 in /usr/local/lib/python3.10/dist-packages (from requests->tinygrad==0.6.0) (1.26.15)\n",
            "Requirement already satisfied: certifi>=2017.4.17 in /usr/local/lib/python3.10/dist-packages (from requests->tinygrad==0.6.0) (2022.12.7)\n",
            "Requirement already satisfied: charset-normalizer~=2.0.0 in /usr/local/lib/python3.10/dist-packages (from requests->tinygrad==0.6.0) (2.0.12)\n",
            "Requirement already satisfied: idna<4,>=2.5 in /usr/local/lib/python3.10/dist-packages (from requests->tinygrad==0.6.0) (3.4)\n",
            "Requirement already satisfied: typing_extensions>=4.0 in /usr/local/lib/python3.10/dist-packages (from pytools>=2021.2.7->pyopencl->tinygrad==0.6.0) (4.5.0)\n",
            "Building wheels for collected packages: pytools\n",
            "  Building wheel for pytools (setup.py) ... \u001b[?25l\u001b[?25hdone\n",
            "  Created wheel for pytools: filename=pytools-2022.1.14-py2.py3-none-any.whl size=69855 sha256=5292ec6a0479c842e54ad0325d64a8351269f55806911f6d87a6cb0a4980183b\n",
            "  Stored in directory: /root/.cache/pip/wheels/19/02/16/aa2498ad7aa723a149ff7539f1918509661c0ae9d975b44b6d\n",
            "Successfully built pytools\n",
            "Installing collected packages: pytools, pyopencl, tinygrad\n",
            "  Running setup.py develop for tinygrad\n",
            "Successfully installed pyopencl-2023.1 pytools-2022.1.14 tinygrad-0.6.0\n"
          ]
        }
      ]
    },
    {
      "cell_type": "code",
      "source": [
        "from tinygrad.tensor import Tensor\n",
        "\n",
        "x = Tensor.eye(3, requires_grad=True)\n",
        "y = Tensor([[2.0,0,-2.0]], requires_grad=True)\n",
        "z = y.matmul(x).sum()\n",
        "z.backward()\n",
        "\n",
        "print(x.grad.numpy())  # dz/dx\n",
        "print(y.grad.numpy())  # dz/dy"
      ],
      "metadata": {
        "colab": {
          "base_uri": "https://localhost:8080/"
        },
        "id": "1WRUct_lZB93",
        "outputId": "74eec10c-612c-4f5d-f4de-fda8be51eaa1"
      },
      "execution_count": null,
      "outputs": [
        {
          "output_type": "stream",
          "name": "stdout",
          "text": [
            "[[ 2.  2.  2.]\n",
            " [ 0.  0.  0.]\n",
            " [-2. -2. -2.]]\n",
            "[[1. 1. 1.]]\n"
          ]
        }
      ]
    },
    {
      "cell_type": "code",
      "source": [
        "from tinygrad.tensor import Tensor;\n",
        "N = 1024; a, b = Tensor.randn(N, N), Tensor.randn(N, N);\n",
        "c = (a.reshape(N, 1, N) * b.permute(1,0).reshape(1, N, N)).sum(axis=2);\n",
        "print((c.numpy() - (a.numpy() @ b.numpy())).mean())"
      ],
      "metadata": {
        "colab": {
          "base_uri": "https://localhost:8080/"
        },
        "id": "xm17gRlIZXk5",
        "outputId": "28774690-6fa1-4652-a057-dd11a2ae44b8"
      },
      "execution_count": null,
      "outputs": [
        {
          "output_type": "stream",
          "name": "stdout",
          "text": [
            "1.7190548e-08\n"
          ]
        }
      ]
    },
    {
      "cell_type": "code",
      "source": [
        "%%writefile fast.sh\n",
        "\n",
        "DEBUG=3 OPTLOCAL=1 python3 -c \"from tinygrad.tensor import Tensor;\n",
        "N = 1024; a, b = Tensor.randn(N, N), Tensor.randn(N, N);\n",
        "c = (a.reshape(N, 1, N) * b.permute(1,0).reshape(1, N, N)).sum(axis=2);\n",
        "print((c.numpy() - (a.numpy() @ b.numpy())).mean())\""
      ],
      "metadata": {
        "id": "CjYt1jIscqpK",
        "colab": {
          "base_uri": "https://localhost:8080/"
        },
        "outputId": "e6b59e68-3cf3-4944-ab3e-3905ba964415"
      },
      "execution_count": null,
      "outputs": [
        {
          "output_type": "stream",
          "name": "stdout",
          "text": [
            "Writing fast.sh\n"
          ]
        }
      ]
    },
    {
      "cell_type": "code",
      "source": [
        "!sh fast.sh"
      ],
      "metadata": {
        "colab": {
          "base_uri": "https://localhost:8080/"
        },
        "id": "VUdEI8O6WgsF",
        "outputId": "bb9a4a1b-a4f7-4d07-fd60-313d53e46f8d"
      },
      "execution_count": null,
      "outputs": [
        {
          "output_type": "stream",
          "name": "stdout",
          "text": [
            "*** exec  0.01 GB    0.10 ms op: MovementOps.RESHAPE  out(float): (1024, 1, 1024)                in(1): [(1024, 1024)] (1024, 1, 1024)\n",
            "*** exec  4.30 GB    0.17 ms op: MovementOps.EXPAND   out(float): (1024, 1024, 1024)             in(1): [(1024, 1, 1024)] (1024, 1024, 1024)\n",
            "*** exec  4.31 GB    0.10 ms op: MovementOps.PERMUTE  out(float): (1024, 1024)                   in(1): [(1024, 1024)] (1, 0)\n",
            "*** exec  4.31 GB    0.10 ms op: MovementOps.RESHAPE  out(float): (1, 1024, 1024)                in(1): [(1024, 1024)] (1, 1024, 1024)\n",
            "*** exec  8.60 GB    0.13 ms op: MovementOps.EXPAND   out(float): (1024, 1024, 1024)             in(1): [(1, 1024, 1024)] (1024, 1024, 1024)\n",
            "*** exec  8.60 GB  420.41 ms op: FusedOps.MULACC      out(float): (1024, 1024, 1)                in(2): [(1024, 1024, 1024)] (1024, 1024, 1)\n",
            "*** exec  0.02 GB    0.11 ms op: MovementOps.RESHAPE  out(float): (1024, 1024)                   in(1): [(1024, 1024, 1)] (1024, 1024)\n",
            "3.792106e-09\n"
          ]
        }
      ]
    },
    {
      "cell_type": "code",
      "source": [
        "!python3 -m pip install -e '.[testing]'"
      ],
      "metadata": {
        "id": "OpHlAbFFX2SL"
      },
      "execution_count": null,
      "outputs": []
    },
    {
      "cell_type": "code",
      "source": [
        "!python -m pytest"
      ],
      "metadata": {
        "id": "LDMZqNo3Z_qo"
      },
      "execution_count": null,
      "outputs": []
    },
    {
      "cell_type": "code",
      "source": [
        "!DEBUG=3 OPTLOCAL=1 python3 -c \"from tinygrad.tensor import Tensor; \\\n",
        "N = 1024; a, b = Tensor.randn(N, N), Tensor.randn(N, N); \\\n",
        "c = (a.reshape(N, 1, N) * b.permute(1,0).reshape(1, N, N)).sum(axis=2); \\\n",
        "print((c.numpy() - (a.numpy() @ b.numpy())).mean())\""
      ],
      "metadata": {
        "colab": {
          "base_uri": "https://localhost:8080/"
        },
        "id": "1KobmG-UUByK",
        "outputId": "90e155f1-27f4-45f8-a968-e5b6a92603c9"
      },
      "execution_count": null,
      "outputs": [
        {
          "output_type": "stream",
          "name": "stdout",
          "text": [
            "*** exec  0.00 GB    0.10 ms op: MovementOps.RESHAPE  out(float): (1, 1)                         in(1): [()] (1, 1)\n",
            "*** exec  0.00 GB    0.18 ms op: MovementOps.EXPAND   out(float): (1024, 1024)                   in(1): [(1, 1)] (1024, 1024)\n",
            "*** exec  0.02 GB    0.12 ms op: MovementOps.RESHAPE  out(float): (2, 1024, 1024)                in(1): [(2097152,)] (2, 1024, 1024)\n",
            "*** exec  0.02 GB    0.10 ms op: MovementOps.SHRINK   out(float): (1, 1024, 1024)                in(1): [(2, 1024, 1024)] ((0, 1), (0, 1024), (0, 1024))\n",
            "*** exec  0.02 GB    0.09 ms op: MovementOps.RESHAPE  out(float): (1024, 1024)                   in(1): [(1, 1024, 1024)] (1024, 1024)\n",
            "*** exec  0.02 GB    0.07 ms op: MovementOps.RESHAPE  out(float): (1, 1)                         in(1): [()] (1, 1)\n",
            "*** exec  0.02 GB    0.11 ms op: MovementOps.EXPAND   out(float): (1024, 1024)                   in(1): [(1, 1)] (1024, 1024)\n",
            "*** exec  0.03 GB    0.12 ms op: MovementOps.SHRINK   out(float): (1, 1024, 1024)                in(1): [(2, 1024, 1024)] ((1, 2), (0, 1024), (0, 1024))\n",
            "*** exec  0.02 GB    0.09 ms op: MovementOps.RESHAPE  out(float): (1024, 1024)                   in(1): [(1, 1024, 1024)] (1024, 1024)\n",
            "*** exec  0.02 GB    0.07 ms op: MovementOps.RESHAPE  out(float): (1, 1)                         in(1): [()] (1, 1)\n",
            "*** exec  0.02 GB    0.10 ms op: MovementOps.EXPAND   out(float): (1024, 1024)                   in(1): [(1, 1)] (1024, 1024)\n",
            "*** exec  0.02 GB    0.07 ms op: MovementOps.RESHAPE  out(float): (1, 1)                         in(1): [()] (1, 1)\n",
            "*** exec  0.03 GB    0.10 ms op: MovementOps.EXPAND   out(float): (1024, 1024)                   in(1): [(1, 1)] (1024, 1024)\n",
            "***       0.03 GB    1.85 ms op: BinaryOps.MUL        out(float): (1024, 1024)                   in(2): [(1024, 1024)] \n",
            "***       0.03 GB    1.86 ms op: BinaryOps.SUB        out(float): (1024, 1024)                   in(2): [(1024, 1024)] \n",
            "***       0.04 GB    3.30 ms op: UnaryOps.SIN         out(float): (1024, 1024)                   in(1): [(1024, 1024)] \n",
            "***       0.04 GB    3.87 ms op: UnaryOps.LOG         out(float): (1024, 1024)                   in(1): [(1024, 1024)] \n",
            "***       0.05 GB    1.81 ms op: BinaryOps.MUL        out(float): (1024, 1024)                   in(2): [(1024, 1024)] \n",
            "***       0.05 GB   16.36 ms op: BinaryOps.POW        out(float): (1024, 1024)                   in(2): [(1024, 1024)] \n",
            "*** exec  0.05 GB    2.15 ms op: BinaryOps.MUL        out(float): (1024, 1024)                   in(2): [(1024, 1024)] \n",
            "*** exec  0.01 GB    0.10 ms op: MovementOps.RESHAPE  out(float): (1024, 1, 1024)                in(1): [(1024, 1024)] (1024, 1, 1024)\n",
            "*** exec  4.30 GB    0.12 ms op: MovementOps.EXPAND   out(float): (1024, 1024, 1024)             in(1): [(1024, 1, 1024)] (1024, 1024, 1024)\n",
            "*** exec  4.30 GB    0.07 ms op: MovementOps.RESHAPE  out(float): (1, 1)                         in(1): [()] (1, 1)\n",
            "*** exec  4.30 GB    0.10 ms op: MovementOps.EXPAND   out(float): (1024, 1024)                   in(1): [(1, 1)] (1024, 1024)\n",
            "*** exec  4.32 GB    0.07 ms op: MovementOps.RESHAPE  out(float): (2, 1024, 1024)                in(1): [(2097152,)] (2, 1024, 1024)\n",
            "*** exec  4.32 GB    0.09 ms op: MovementOps.SHRINK   out(float): (1, 1024, 1024)                in(1): [(2, 1024, 1024)] ((0, 1), (0, 1024), (0, 1024))\n",
            "*** exec  4.32 GB    0.08 ms op: MovementOps.RESHAPE  out(float): (1024, 1024)                   in(1): [(1, 1024, 1024)] (1024, 1024)\n",
            "*** exec  4.32 GB    0.08 ms op: MovementOps.PERMUTE  out(float): (1024, 1024)                   in(1): [(1024, 1024)] (1, 0)\n",
            "*** exec  4.32 GB    0.06 ms op: MovementOps.RESHAPE  out(float): (1, 1)                         in(1): [()] (1, 1)\n",
            "*** exec  4.32 GB    0.11 ms op: MovementOps.EXPAND   out(float): (1024, 1024)                   in(1): [(1, 1)] (1024, 1024)\n",
            "*** exec  4.33 GB    0.08 ms op: MovementOps.SHRINK   out(float): (1, 1024, 1024)                in(1): [(2, 1024, 1024)] ((1, 2), (0, 1024), (0, 1024))\n",
            "*** exec  4.32 GB    0.08 ms op: MovementOps.RESHAPE  out(float): (1024, 1024)                   in(1): [(1, 1024, 1024)] (1024, 1024)\n",
            "*** exec  4.32 GB    0.09 ms op: MovementOps.PERMUTE  out(float): (1024, 1024)                   in(1): [(1024, 1024)] (1, 0)\n",
            "*** exec  4.32 GB    0.07 ms op: MovementOps.RESHAPE  out(float): (1, 1)                         in(1): [()] (1, 1)\n",
            "*** exec  4.33 GB    0.09 ms op: MovementOps.EXPAND   out(float): (1024, 1024)                   in(1): [(1, 1)] (1024, 1024)\n",
            "*** exec  4.33 GB    0.07 ms op: MovementOps.RESHAPE  out(float): (1, 1)                         in(1): [()] (1, 1)\n",
            "*** exec  4.33 GB    0.10 ms op: MovementOps.EXPAND   out(float): (1024, 1024)                   in(1): [(1, 1)] (1024, 1024)\n",
            "***       4.34 GB    1.54 ms op: BinaryOps.MUL        out(float): (1024, 1024)                   in(2): [(1024, 1024)] \n",
            "***       4.34 GB    2.13 ms op: BinaryOps.SUB        out(float): (1024, 1024)                   in(2): [(1024, 1024)] \n",
            "***       4.35 GB    4.59 ms op: UnaryOps.SIN         out(float): (1024, 1024)                   in(1): [(1024, 1024)] \n",
            "***       4.35 GB    3.71 ms op: UnaryOps.LOG         out(float): (1024, 1024)                   in(1): [(1024, 1024)] \n",
            "***       4.35 GB    2.29 ms op: BinaryOps.MUL        out(float): (1024, 1024)                   in(2): [(1024, 1024)] \n",
            "***       4.36 GB   72.30 ms op: BinaryOps.POW        out(float): (1024, 1024)                   in(2): [(1024, 1024)] \n",
            "*** exec  4.36 GB    2.68 ms op: BinaryOps.MUL        out(float): (1024, 1024)                   in(2): [(1024, 1024)] \n",
            "*** exec  4.33 GB    0.16 ms op: MovementOps.RESHAPE  out(float): (1, 1024, 1024)                in(1): [(1024, 1024)] (1, 1024, 1024)\n",
            "*** exec  8.62 GB    0.18 ms op: MovementOps.EXPAND   out(float): (1024, 1024, 1024)             in(1): [(1, 1024, 1024)] (1024, 1024, 1024)\n",
            "*** exec  8.62 GB  358.28 ms op: FusedOps.MULACC      out(float): (1024, 1024, 1)                in(2): [(1024, 1024, 1024)] (1024, 1024, 1)\n",
            "*** exec  0.04 GB    0.08 ms op: MovementOps.RESHAPE  out(float): (1024, 1024)                   in(1): [(1024, 1024, 1)] (1024, 1024)\n",
            "***       0.04 GB    0.84 ms op: BinaryOps.MUL        out(float): (1024, 1024)                   in(2): [(1024, 1024)] \n",
            "***       0.04 GB    0.84 ms op: BinaryOps.SUB        out(float): (1024, 1024)                   in(2): [(1024, 1024)] \n",
            "***       0.05 GB    2.82 ms op: UnaryOps.SIN         out(float): (1024, 1024)                   in(1): [(1024, 1024)] \n",
            "***       0.05 GB    2.05 ms op: UnaryOps.LOG         out(float): (1024, 1024)                   in(1): [(1024, 1024)] \n",
            "***       0.05 GB    0.96 ms op: BinaryOps.MUL        out(float): (1024, 1024)                   in(2): [(1024, 1024)] \n",
            "***       0.06 GB   16.08 ms op: BinaryOps.POW        out(float): (1024, 1024)                   in(2): [(1024, 1024)] \n",
            "*** exec  0.06 GB    2.44 ms op: BinaryOps.MUL        out(float): (1024, 1024)                   in(2): [(1024, 1024)] \n",
            "-7.441745e-10\n"
          ]
        }
      ]
    },
    {
      "cell_type": "code",
      "source": [
        "!python -m pip install -U mypy"
      ],
      "metadata": {
        "id": "d_WESgj8zYjv",
        "outputId": "51a3878d-357b-44d7-ce1b-961e93039c3b",
        "colab": {
          "base_uri": "https://localhost:8080/"
        }
      },
      "execution_count": 8,
      "outputs": [
        {
          "output_type": "stream",
          "name": "stdout",
          "text": [
            "Looking in indexes: https://pypi.org/simple, https://us-python.pkg.dev/colab-wheels/public/simple/\n",
            "Collecting mypy\n",
            "  Downloading mypy-1.3.0-cp310-cp310-manylinux_2_17_x86_64.manylinux2014_x86_64.whl (12.2 MB)\n",
            "\u001b[2K     \u001b[90m━━━━━━━━━━━━━━━━━━━━━━━━━━━━━━━━━━━━━━━━\u001b[0m \u001b[32m12.2/12.2 MB\u001b[0m \u001b[31m99.5 MB/s\u001b[0m eta \u001b[36m0:00:00\u001b[0m\n",
            "\u001b[?25hRequirement already satisfied: typing-extensions>=3.10 in /usr/local/lib/python3.10/dist-packages (from mypy) (4.5.0)\n",
            "Collecting mypy-extensions>=1.0.0 (from mypy)\n",
            "  Downloading mypy_extensions-1.0.0-py3-none-any.whl (4.7 kB)\n",
            "Requirement already satisfied: tomli>=1.1.0 in /usr/local/lib/python3.10/dist-packages (from mypy) (2.0.1)\n",
            "Installing collected packages: mypy-extensions, mypy\n",
            "Successfully installed mypy-1.3.0 mypy-extensions-1.0.0\n"
          ]
        }
      ]
    },
    {
      "cell_type": "code",
      "source": [
        "!mypyc --check-untyped-defs --explicit-package-bases --warn-unreachable tinygrad/shape/shapetracker.py tinygrad/shape/symbolic.py \\\n",
        "  tinygrad/helpers.py tinygrad/mlops.py tinygrad/tensor.py tinygrad/graph.py"
      ],
      "metadata": {
        "id": "tTHUQF-i0Tuy",
        "outputId": "8a85c350-60e7-4b9e-de3f-3607f6f1c963",
        "colab": {
          "base_uri": "https://localhost:8080/"
        }
      },
      "execution_count": 13,
      "outputs": [
        {
          "output_type": "stream",
          "name": "stdout",
          "text": [
            "Traceback (most recent call last):\n",
            "  File \"/content/tinygrad/build/setup.py\", line 1, in <module>\n",
            "    from setuptools import setup\n",
            "  File \"/usr/local/lib/python3.10/dist-packages/setuptools/__init__.py\", line 7, in <module>\n",
            "    import _distutils_hack.override  # noqa: F401\n",
            "  File \"/usr/local/lib/python3.10/dist-packages/_distutils_hack/override.py\", line 1, in <module>\n",
            "    __import__('_distutils_hack').do_override()\n",
            "  File \"/usr/local/lib/python3.10/dist-packages/_distutils_hack/__init__.py\", line 77, in do_override\n",
            "    ensure_local_distutils()\n",
            "  File \"/usr/local/lib/python3.10/dist-packages/_distutils_hack/__init__.py\", line 63, in ensure_local_distutils\n",
            "    core = importlib.import_module('distutils.core')\n",
            "  File \"/usr/lib/python3.10/importlib/__init__.py\", line 126, in import_module\n",
            "    return _bootstrap._gcd_import(name[level:], package, level)\n",
            "  File \"/usr/local/lib/python3.10/dist-packages/setuptools/_distutils/core.py\", line 22, in <module>\n",
            "    from .dist import Distribution\n",
            "  File \"/usr/local/lib/python3.10/dist-packages/setuptools/_distutils/dist.py\", line 10, in <module>\n",
            "    import pathlib\n",
            "  File \"/usr/local/lib/python3.10/dist-packages/pathlib.py\", line 10, in <module>\n",
            "    from collections import Sequence\n",
            "ImportError: cannot import name 'Sequence' from 'collections' (/usr/lib/python3.10/collections/__init__.py)\n"
          ]
        }
      ]
    }
  ]
}
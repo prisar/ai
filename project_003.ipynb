{
  "nbformat": 4,
  "nbformat_minor": 0,
  "metadata": {
    "colab": {
      "provenance": [],
      "authorship_tag": "ABX9TyO/BOSaIXNIwfFDiTHVAVA3",
      "include_colab_link": true
    },
    "kernelspec": {
      "name": "python3",
      "display_name": "Python 3"
    },
    "language_info": {
      "name": "python"
    }
  },
  "cells": [
    {
      "cell_type": "markdown",
      "metadata": {
        "id": "view-in-github",
        "colab_type": "text"
      },
      "source": [
        "<a href=\"https://colab.research.google.com/github/prisar/ai/blob/main/project_003.ipynb\" target=\"_parent\"><img src=\"https://colab.research.google.com/assets/colab-badge.svg\" alt=\"Open In Colab\"/></a>"
      ]
    },
    {
      "cell_type": "markdown",
      "source": [
        "###tinygrad"
      ],
      "metadata": {
        "id": "i7hPSZeDYDci"
      }
    },
    {
      "cell_type": "code",
      "execution_count": 1,
      "metadata": {
        "colab": {
          "base_uri": "https://localhost:8080/"
        },
        "id": "jhqp2D4CXIbN",
        "outputId": "162138d8-2cf2-458c-8283-c732893f1afb"
      },
      "outputs": [
        {
          "output_type": "stream",
          "name": "stdout",
          "text": [
            "Cloning into 'tinygrad'...\n",
            "remote: Enumerating objects: 13380, done.\u001b[K\n",
            "remote: Counting objects: 100% (2716/2716), done.\u001b[K\n",
            "remote: Compressing objects: 100% (685/685), done.\u001b[K\n",
            "remote: Total 13380 (delta 2345), reused 2193 (delta 2028), pack-reused 10664\u001b[K\n",
            "Receiving objects: 100% (13380/13380), 16.90 MiB | 27.51 MiB/s, done.\n",
            "Resolving deltas: 100% (9417/9417), done.\n"
          ]
        }
      ],
      "source": [
        "!git clone https://github.com/geohot/tinygrad.git"
      ]
    },
    {
      "cell_type": "code",
      "source": [
        "cd tinygrad"
      ],
      "metadata": {
        "colab": {
          "base_uri": "https://localhost:8080/"
        },
        "id": "6ItveJo_YcmK",
        "outputId": "bf54620c-3551-48ba-dde2-c47c186eeeb8"
      },
      "execution_count": 2,
      "outputs": [
        {
          "output_type": "stream",
          "name": "stdout",
          "text": [
            "/content/tinygrad\n"
          ]
        }
      ]
    },
    {
      "cell_type": "code",
      "source": [
        "!pip install -e ."
      ],
      "metadata": {
        "id": "XkLZbg5JYht4"
      },
      "execution_count": null,
      "outputs": []
    },
    {
      "cell_type": "code",
      "source": [
        "from tinygrad.tensor import Tensor\n",
        "\n",
        "x = Tensor.eye(3, requires_grad=True)\n",
        "y = Tensor([[2.0,0,-2.0]], requires_grad=True)\n",
        "z = y.matmul(x).sum()\n",
        "z.backward()\n",
        "\n",
        "print(x.grad.numpy())  # dz/dx\n",
        "print(y.grad.numpy())  # dz/dy"
      ],
      "metadata": {
        "colab": {
          "base_uri": "https://localhost:8080/"
        },
        "id": "1WRUct_lZB93",
        "outputId": "9e68acce-3268-4eb4-ac0a-e59f67bf6950"
      },
      "execution_count": 4,
      "outputs": [
        {
          "output_type": "stream",
          "name": "stdout",
          "text": [
            "[[ 2.  2.  2.]\n",
            " [ 0.  0.  0.]\n",
            " [-2. -2. -2.]]\n",
            "[[1. 1. 1.]]\n"
          ]
        }
      ]
    },
    {
      "cell_type": "code",
      "source": [
        "from tinygrad.tensor import Tensor;\n",
        "N = 1024; a, b = Tensor.randn(N, N), Tensor.randn(N, N);\n",
        "c = (a.reshape(N, 1, N) * b.permute(1,0).reshape(1, N, N)).sum(axis=2);\n",
        "print((c.numpy() - (a.numpy() @ b.numpy())).mean())"
      ],
      "metadata": {
        "colab": {
          "base_uri": "https://localhost:8080/"
        },
        "id": "xm17gRlIZXk5",
        "outputId": "28774690-6fa1-4652-a057-dd11a2ae44b8"
      },
      "execution_count": 5,
      "outputs": [
        {
          "output_type": "stream",
          "name": "stdout",
          "text": [
            "1.7190548e-08\n"
          ]
        }
      ]
    },
    {
      "cell_type": "code",
      "source": [
        "%%writefile fast.sh\n",
        "\n",
        "DEBUG=3 OPTLOCAL=1 python3 -c \"from tinygrad.tensor import Tensor;\n",
        "N = 1024; a, b = Tensor.randn(N, N), Tensor.randn(N, N);\n",
        "c = (a.reshape(N, 1, N) * b.permute(1,0).reshape(1, N, N)).sum(axis=2);\n",
        "print((c.numpy() - (a.numpy() @ b.numpy())).mean())\""
      ],
      "metadata": {
        "id": "CjYt1jIscqpK",
        "colab": {
          "base_uri": "https://localhost:8080/"
        },
        "outputId": "e6b59e68-3cf3-4944-ab3e-3905ba964415"
      },
      "execution_count": 7,
      "outputs": [
        {
          "output_type": "stream",
          "name": "stdout",
          "text": [
            "Writing fast.sh\n"
          ]
        }
      ]
    },
    {
      "cell_type": "code",
      "source": [
        "!sh fast.sh"
      ],
      "metadata": {
        "colab": {
          "base_uri": "https://localhost:8080/"
        },
        "id": "VUdEI8O6WgsF",
        "outputId": "bb9a4a1b-a4f7-4d07-fd60-313d53e46f8d"
      },
      "execution_count": 9,
      "outputs": [
        {
          "output_type": "stream",
          "name": "stdout",
          "text": [
            "*** exec  0.01 GB    0.10 ms op: MovementOps.RESHAPE  out(float): (1024, 1, 1024)                in(1): [(1024, 1024)] (1024, 1, 1024)\n",
            "*** exec  4.30 GB    0.17 ms op: MovementOps.EXPAND   out(float): (1024, 1024, 1024)             in(1): [(1024, 1, 1024)] (1024, 1024, 1024)\n",
            "*** exec  4.31 GB    0.10 ms op: MovementOps.PERMUTE  out(float): (1024, 1024)                   in(1): [(1024, 1024)] (1, 0)\n",
            "*** exec  4.31 GB    0.10 ms op: MovementOps.RESHAPE  out(float): (1, 1024, 1024)                in(1): [(1024, 1024)] (1, 1024, 1024)\n",
            "*** exec  8.60 GB    0.13 ms op: MovementOps.EXPAND   out(float): (1024, 1024, 1024)             in(1): [(1, 1024, 1024)] (1024, 1024, 1024)\n",
            "*** exec  8.60 GB  420.41 ms op: FusedOps.MULACC      out(float): (1024, 1024, 1)                in(2): [(1024, 1024, 1024)] (1024, 1024, 1)\n",
            "*** exec  0.02 GB    0.11 ms op: MovementOps.RESHAPE  out(float): (1024, 1024)                   in(1): [(1024, 1024, 1)] (1024, 1024)\n",
            "3.792106e-09\n"
          ]
        }
      ]
    }
  ]
}
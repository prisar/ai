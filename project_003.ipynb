{
  "nbformat": 4,
  "nbformat_minor": 0,
  "metadata": {
    "colab": {
      "provenance": [],
      "gpuType": "T4",
      "authorship_tag": "ABX9TyPeg7DJ7YatBN15IWpCqDC7",
      "include_colab_link": true
    },
    "kernelspec": {
      "name": "python3",
      "display_name": "Python 3"
    },
    "language_info": {
      "name": "python"
    },
    "accelerator": "GPU"
  },
  "cells": [
    {
      "cell_type": "markdown",
      "metadata": {
        "id": "view-in-github",
        "colab_type": "text"
      },
      "source": [
        "<a href=\"https://colab.research.google.com/github/prisar/ai/blob/main/project_003.ipynb\" target=\"_parent\"><img src=\"https://colab.research.google.com/assets/colab-badge.svg\" alt=\"Open In Colab\"/></a>"
      ]
    },
    {
      "cell_type": "markdown",
      "source": [
        "###tinygrad"
      ],
      "metadata": {
        "id": "i7hPSZeDYDci"
      }
    },
    {
      "cell_type": "code",
      "execution_count": 5,
      "metadata": {
        "id": "jhqp2D4CXIbN",
        "colab": {
          "base_uri": "https://localhost:8080/"
        },
        "outputId": "9062b6e2-c68a-4924-ca88-db5aa563f65d"
      },
      "outputs": [
        {
          "output_type": "stream",
          "name": "stdout",
          "text": [
            "fatal: destination path 'tinygrad' already exists and is not an empty directory.\n"
          ]
        }
      ],
      "source": [
        "!git clone https://github.com/geohot/tinygrad.git"
      ]
    },
    {
      "cell_type": "code",
      "source": [
        "cd tinygrad"
      ],
      "metadata": {
        "id": "53qZpT3OH5DH"
      },
      "execution_count": null,
      "outputs": []
    },
    {
      "cell_type": "code",
      "source": [
        "!pip install -e ."
      ],
      "metadata": {
        "id": "XkLZbg5JYht4"
      },
      "execution_count": null,
      "outputs": []
    },
    {
      "cell_type": "code",
      "source": [
        "from tinygrad.tensor import Tensor\n",
        "\n",
        "x = Tensor.eye(3, requires_grad=True)\n",
        "y = Tensor([[2.0,0,-2.0]], requires_grad=True)\n",
        "z = y.matmul(x).sum()\n",
        "z.backward()\n",
        "\n",
        "print(x.grad.numpy())  # dz/dx\n",
        "print(y.grad.numpy())  # dz/dy"
      ],
      "metadata": {
        "colab": {
          "base_uri": "https://localhost:8080/"
        },
        "id": "1WRUct_lZB93",
        "outputId": "74eec10c-612c-4f5d-f4de-fda8be51eaa1"
      },
      "execution_count": null,
      "outputs": [
        {
          "output_type": "stream",
          "name": "stdout",
          "text": [
            "[[ 2.  2.  2.]\n",
            " [ 0.  0.  0.]\n",
            " [-2. -2. -2.]]\n",
            "[[1. 1. 1.]]\n"
          ]
        }
      ]
    },
    {
      "cell_type": "code",
      "source": [
        "from tinygrad.tensor import Tensor;\n",
        "N = 1024; a, b = Tensor.randn(N, N), Tensor.randn(N, N);\n",
        "c = (a.reshape(N, 1, N) * b.permute(1,0).reshape(1, N, N)).sum(axis=2);\n",
        "print((c.numpy() - (a.numpy() @ b.numpy())).mean())"
      ],
      "metadata": {
        "colab": {
          "base_uri": "https://localhost:8080/"
        },
        "id": "xm17gRlIZXk5",
        "outputId": "28774690-6fa1-4652-a057-dd11a2ae44b8"
      },
      "execution_count": null,
      "outputs": [
        {
          "output_type": "stream",
          "name": "stdout",
          "text": [
            "1.7190548e-08\n"
          ]
        }
      ]
    },
    {
      "cell_type": "code",
      "source": [
        "%%writefile fast.sh\n",
        "\n",
        "DEBUG=3 OPTLOCAL=1 python3 -c \"from tinygrad.tensor import Tensor;\n",
        "N = 1024; a, b = Tensor.randn(N, N), Tensor.randn(N, N);\n",
        "c = (a.reshape(N, 1, N) * b.permute(1,0).reshape(1, N, N)).sum(axis=2);\n",
        "print((c.numpy() - (a.numpy() @ b.numpy())).mean())\""
      ],
      "metadata": {
        "id": "CjYt1jIscqpK",
        "colab": {
          "base_uri": "https://localhost:8080/"
        },
        "outputId": "e6b59e68-3cf3-4944-ab3e-3905ba964415"
      },
      "execution_count": null,
      "outputs": [
        {
          "output_type": "stream",
          "name": "stdout",
          "text": [
            "Writing fast.sh\n"
          ]
        }
      ]
    },
    {
      "cell_type": "code",
      "source": [
        "!sh fast.sh"
      ],
      "metadata": {
        "colab": {
          "base_uri": "https://localhost:8080/"
        },
        "id": "VUdEI8O6WgsF",
        "outputId": "bb9a4a1b-a4f7-4d07-fd60-313d53e46f8d"
      },
      "execution_count": null,
      "outputs": [
        {
          "output_type": "stream",
          "name": "stdout",
          "text": [
            "*** exec  0.01 GB    0.10 ms op: MovementOps.RESHAPE  out(float): (1024, 1, 1024)                in(1): [(1024, 1024)] (1024, 1, 1024)\n",
            "*** exec  4.30 GB    0.17 ms op: MovementOps.EXPAND   out(float): (1024, 1024, 1024)             in(1): [(1024, 1, 1024)] (1024, 1024, 1024)\n",
            "*** exec  4.31 GB    0.10 ms op: MovementOps.PERMUTE  out(float): (1024, 1024)                   in(1): [(1024, 1024)] (1, 0)\n",
            "*** exec  4.31 GB    0.10 ms op: MovementOps.RESHAPE  out(float): (1, 1024, 1024)                in(1): [(1024, 1024)] (1, 1024, 1024)\n",
            "*** exec  8.60 GB    0.13 ms op: MovementOps.EXPAND   out(float): (1024, 1024, 1024)             in(1): [(1, 1024, 1024)] (1024, 1024, 1024)\n",
            "*** exec  8.60 GB  420.41 ms op: FusedOps.MULACC      out(float): (1024, 1024, 1)                in(2): [(1024, 1024, 1024)] (1024, 1024, 1)\n",
            "*** exec  0.02 GB    0.11 ms op: MovementOps.RESHAPE  out(float): (1024, 1024)                   in(1): [(1024, 1024, 1)] (1024, 1024)\n",
            "3.792106e-09\n"
          ]
        }
      ]
    },
    {
      "cell_type": "code",
      "source": [
        "!python3 -m pip install -e '.[testing]'"
      ],
      "metadata": {
        "id": "OpHlAbFFX2SL"
      },
      "execution_count": null,
      "outputs": []
    },
    {
      "cell_type": "code",
      "source": [
        "!python -m pytest"
      ],
      "metadata": {
        "id": "LDMZqNo3Z_qo"
      },
      "execution_count": null,
      "outputs": []
    },
    {
      "cell_type": "code",
      "source": [
        "!DEBUG=3 OPTLOCAL=1 python3 -c \"from tinygrad.tensor import Tensor; \\\n",
        "N = 1024; a, b = Tensor.randn(N, N), Tensor.randn(N, N); \\\n",
        "c = (a.reshape(N, 1, N) * b.permute(1,0).reshape(1, N, N)).sum(axis=2); \\\n",
        "print((c.numpy() - (a.numpy() @ b.numpy())).mean())\""
      ],
      "metadata": {
        "colab": {
          "base_uri": "https://localhost:8080/"
        },
        "id": "1KobmG-UUByK",
        "outputId": "90e155f1-27f4-45f8-a968-e5b6a92603c9"
      },
      "execution_count": 4,
      "outputs": [
        {
          "output_type": "stream",
          "name": "stdout",
          "text": [
            "*** exec  0.00 GB    0.10 ms op: MovementOps.RESHAPE  out(float): (1, 1)                         in(1): [()] (1, 1)\n",
            "*** exec  0.00 GB    0.18 ms op: MovementOps.EXPAND   out(float): (1024, 1024)                   in(1): [(1, 1)] (1024, 1024)\n",
            "*** exec  0.02 GB    0.12 ms op: MovementOps.RESHAPE  out(float): (2, 1024, 1024)                in(1): [(2097152,)] (2, 1024, 1024)\n",
            "*** exec  0.02 GB    0.10 ms op: MovementOps.SHRINK   out(float): (1, 1024, 1024)                in(1): [(2, 1024, 1024)] ((0, 1), (0, 1024), (0, 1024))\n",
            "*** exec  0.02 GB    0.09 ms op: MovementOps.RESHAPE  out(float): (1024, 1024)                   in(1): [(1, 1024, 1024)] (1024, 1024)\n",
            "*** exec  0.02 GB    0.07 ms op: MovementOps.RESHAPE  out(float): (1, 1)                         in(1): [()] (1, 1)\n",
            "*** exec  0.02 GB    0.11 ms op: MovementOps.EXPAND   out(float): (1024, 1024)                   in(1): [(1, 1)] (1024, 1024)\n",
            "*** exec  0.03 GB    0.12 ms op: MovementOps.SHRINK   out(float): (1, 1024, 1024)                in(1): [(2, 1024, 1024)] ((1, 2), (0, 1024), (0, 1024))\n",
            "*** exec  0.02 GB    0.09 ms op: MovementOps.RESHAPE  out(float): (1024, 1024)                   in(1): [(1, 1024, 1024)] (1024, 1024)\n",
            "*** exec  0.02 GB    0.07 ms op: MovementOps.RESHAPE  out(float): (1, 1)                         in(1): [()] (1, 1)\n",
            "*** exec  0.02 GB    0.10 ms op: MovementOps.EXPAND   out(float): (1024, 1024)                   in(1): [(1, 1)] (1024, 1024)\n",
            "*** exec  0.02 GB    0.07 ms op: MovementOps.RESHAPE  out(float): (1, 1)                         in(1): [()] (1, 1)\n",
            "*** exec  0.03 GB    0.10 ms op: MovementOps.EXPAND   out(float): (1024, 1024)                   in(1): [(1, 1)] (1024, 1024)\n",
            "***       0.03 GB    1.85 ms op: BinaryOps.MUL        out(float): (1024, 1024)                   in(2): [(1024, 1024)] \n",
            "***       0.03 GB    1.86 ms op: BinaryOps.SUB        out(float): (1024, 1024)                   in(2): [(1024, 1024)] \n",
            "***       0.04 GB    3.30 ms op: UnaryOps.SIN         out(float): (1024, 1024)                   in(1): [(1024, 1024)] \n",
            "***       0.04 GB    3.87 ms op: UnaryOps.LOG         out(float): (1024, 1024)                   in(1): [(1024, 1024)] \n",
            "***       0.05 GB    1.81 ms op: BinaryOps.MUL        out(float): (1024, 1024)                   in(2): [(1024, 1024)] \n",
            "***       0.05 GB   16.36 ms op: BinaryOps.POW        out(float): (1024, 1024)                   in(2): [(1024, 1024)] \n",
            "*** exec  0.05 GB    2.15 ms op: BinaryOps.MUL        out(float): (1024, 1024)                   in(2): [(1024, 1024)] \n",
            "*** exec  0.01 GB    0.10 ms op: MovementOps.RESHAPE  out(float): (1024, 1, 1024)                in(1): [(1024, 1024)] (1024, 1, 1024)\n",
            "*** exec  4.30 GB    0.12 ms op: MovementOps.EXPAND   out(float): (1024, 1024, 1024)             in(1): [(1024, 1, 1024)] (1024, 1024, 1024)\n",
            "*** exec  4.30 GB    0.07 ms op: MovementOps.RESHAPE  out(float): (1, 1)                         in(1): [()] (1, 1)\n",
            "*** exec  4.30 GB    0.10 ms op: MovementOps.EXPAND   out(float): (1024, 1024)                   in(1): [(1, 1)] (1024, 1024)\n",
            "*** exec  4.32 GB    0.07 ms op: MovementOps.RESHAPE  out(float): (2, 1024, 1024)                in(1): [(2097152,)] (2, 1024, 1024)\n",
            "*** exec  4.32 GB    0.09 ms op: MovementOps.SHRINK   out(float): (1, 1024, 1024)                in(1): [(2, 1024, 1024)] ((0, 1), (0, 1024), (0, 1024))\n",
            "*** exec  4.32 GB    0.08 ms op: MovementOps.RESHAPE  out(float): (1024, 1024)                   in(1): [(1, 1024, 1024)] (1024, 1024)\n",
            "*** exec  4.32 GB    0.08 ms op: MovementOps.PERMUTE  out(float): (1024, 1024)                   in(1): [(1024, 1024)] (1, 0)\n",
            "*** exec  4.32 GB    0.06 ms op: MovementOps.RESHAPE  out(float): (1, 1)                         in(1): [()] (1, 1)\n",
            "*** exec  4.32 GB    0.11 ms op: MovementOps.EXPAND   out(float): (1024, 1024)                   in(1): [(1, 1)] (1024, 1024)\n",
            "*** exec  4.33 GB    0.08 ms op: MovementOps.SHRINK   out(float): (1, 1024, 1024)                in(1): [(2, 1024, 1024)] ((1, 2), (0, 1024), (0, 1024))\n",
            "*** exec  4.32 GB    0.08 ms op: MovementOps.RESHAPE  out(float): (1024, 1024)                   in(1): [(1, 1024, 1024)] (1024, 1024)\n",
            "*** exec  4.32 GB    0.09 ms op: MovementOps.PERMUTE  out(float): (1024, 1024)                   in(1): [(1024, 1024)] (1, 0)\n",
            "*** exec  4.32 GB    0.07 ms op: MovementOps.RESHAPE  out(float): (1, 1)                         in(1): [()] (1, 1)\n",
            "*** exec  4.33 GB    0.09 ms op: MovementOps.EXPAND   out(float): (1024, 1024)                   in(1): [(1, 1)] (1024, 1024)\n",
            "*** exec  4.33 GB    0.07 ms op: MovementOps.RESHAPE  out(float): (1, 1)                         in(1): [()] (1, 1)\n",
            "*** exec  4.33 GB    0.10 ms op: MovementOps.EXPAND   out(float): (1024, 1024)                   in(1): [(1, 1)] (1024, 1024)\n",
            "***       4.34 GB    1.54 ms op: BinaryOps.MUL        out(float): (1024, 1024)                   in(2): [(1024, 1024)] \n",
            "***       4.34 GB    2.13 ms op: BinaryOps.SUB        out(float): (1024, 1024)                   in(2): [(1024, 1024)] \n",
            "***       4.35 GB    4.59 ms op: UnaryOps.SIN         out(float): (1024, 1024)                   in(1): [(1024, 1024)] \n",
            "***       4.35 GB    3.71 ms op: UnaryOps.LOG         out(float): (1024, 1024)                   in(1): [(1024, 1024)] \n",
            "***       4.35 GB    2.29 ms op: BinaryOps.MUL        out(float): (1024, 1024)                   in(2): [(1024, 1024)] \n",
            "***       4.36 GB   72.30 ms op: BinaryOps.POW        out(float): (1024, 1024)                   in(2): [(1024, 1024)] \n",
            "*** exec  4.36 GB    2.68 ms op: BinaryOps.MUL        out(float): (1024, 1024)                   in(2): [(1024, 1024)] \n",
            "*** exec  4.33 GB    0.16 ms op: MovementOps.RESHAPE  out(float): (1, 1024, 1024)                in(1): [(1024, 1024)] (1, 1024, 1024)\n",
            "*** exec  8.62 GB    0.18 ms op: MovementOps.EXPAND   out(float): (1024, 1024, 1024)             in(1): [(1, 1024, 1024)] (1024, 1024, 1024)\n",
            "*** exec  8.62 GB  358.28 ms op: FusedOps.MULACC      out(float): (1024, 1024, 1)                in(2): [(1024, 1024, 1024)] (1024, 1024, 1)\n",
            "*** exec  0.04 GB    0.08 ms op: MovementOps.RESHAPE  out(float): (1024, 1024)                   in(1): [(1024, 1024, 1)] (1024, 1024)\n",
            "***       0.04 GB    0.84 ms op: BinaryOps.MUL        out(float): (1024, 1024)                   in(2): [(1024, 1024)] \n",
            "***       0.04 GB    0.84 ms op: BinaryOps.SUB        out(float): (1024, 1024)                   in(2): [(1024, 1024)] \n",
            "***       0.05 GB    2.82 ms op: UnaryOps.SIN         out(float): (1024, 1024)                   in(1): [(1024, 1024)] \n",
            "***       0.05 GB    2.05 ms op: UnaryOps.LOG         out(float): (1024, 1024)                   in(1): [(1024, 1024)] \n",
            "***       0.05 GB    0.96 ms op: BinaryOps.MUL        out(float): (1024, 1024)                   in(2): [(1024, 1024)] \n",
            "***       0.06 GB   16.08 ms op: BinaryOps.POW        out(float): (1024, 1024)                   in(2): [(1024, 1024)] \n",
            "*** exec  0.06 GB    2.44 ms op: BinaryOps.MUL        out(float): (1024, 1024)                   in(2): [(1024, 1024)] \n",
            "-7.441745e-10\n"
          ]
        }
      ]
    }
  ]
}